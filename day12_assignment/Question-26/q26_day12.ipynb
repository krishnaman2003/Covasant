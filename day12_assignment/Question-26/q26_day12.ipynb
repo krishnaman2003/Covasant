{
 "cells": [
  {
   "cell_type": "code",
   "execution_count": null,
   "id": "b6ad1c72-b48c-4df0-9d82-04556186056b",
   "metadata": {},
   "outputs": [],
   "source": [
    "\"\"\"\n",
    "tpot\n",
    "Question-26\n",
    "# HandsOn - Predict The Data Scientists Salary In India from kaggle use sklearn\n",
    "dataset: Predict-The-Data-Scientists-Salary-In-India_Train_Dataset.csv\n",
    "Data Features:\n",
    "    Name of the company (Encoded)\n",
    "    Years of experience(split to min and max experience)\n",
    "    Job description\n",
    "    Job designation\n",
    "    Job Type\n",
    "    Key skills\n",
    "    Location (needs LabelEncoded)\n",
    "    Salary in Rupees Lakhs(To be predicted)(needs LabelEncoded)\n",
    "    \n",
    "Find the best estimator among below \n",
    "clf1 = DecisionTreeClassifier()\n",
    "clf2 = RandomForestClassifier(n_estimators=100)\n",
    "clf3 = ExtraTreesClassifier(n_estimators=100)\n",
    "clf4 =  AdaBoostClassifier(n_estimators=100)\n",
    "clf5 =  GradientBoostingClassifier(n_estimators=100)\n",
    "\"\"\""
   ]
  },
  {
   "cell_type": "code",
   "execution_count": 30,
   "id": "02650b70-3576-4d40-b738-c97b011ddad9",
   "metadata": {},
   "outputs": [],
   "source": [
    "import pandas as pd\n",
    "from sklearn.model_selection import train_test_split\n",
    "from sklearn.preprocessing import LabelEncoder, StandardScaler\n",
    "from sklearn.tree import DecisionTreeClassifier\n",
    "from sklearn.ensemble import RandomForestClassifier, ExtraTreesClassifier, AdaBoostClassifier, GradientBoostingClassifier\n",
    "from sklearn.metrics import accuracy_score, confusion_matrix"
   ]
  },
  {
   "cell_type": "code",
   "execution_count": 31,
   "id": "15d1fd5b-b329-4a96-aee7-0e5ea9eb4085",
   "metadata": {},
   "outputs": [
    {
     "data": {
      "text/html": [
       "<div>\n",
       "<style scoped>\n",
       "    .dataframe tbody tr th:only-of-type {\n",
       "        vertical-align: middle;\n",
       "    }\n",
       "\n",
       "    .dataframe tbody tr th {\n",
       "        vertical-align: top;\n",
       "    }\n",
       "\n",
       "    .dataframe thead th {\n",
       "        text-align: right;\n",
       "    }\n",
       "</style>\n",
       "<table border=\"1\" class=\"dataframe\">\n",
       "  <thead>\n",
       "    <tr style=\"text-align: right;\">\n",
       "      <th></th>\n",
       "      <th>Unnamed: 0</th>\n",
       "      <th>experience</th>\n",
       "      <th>job_description</th>\n",
       "      <th>job_desig</th>\n",
       "      <th>job_type</th>\n",
       "      <th>key_skills</th>\n",
       "      <th>location</th>\n",
       "      <th>salary</th>\n",
       "      <th>company_name_encoded</th>\n",
       "    </tr>\n",
       "  </thead>\n",
       "  <tbody>\n",
       "    <tr>\n",
       "      <th>0</th>\n",
       "      <td>0</td>\n",
       "      <td>5-7 yrs</td>\n",
       "      <td>Exp: Minimum 5 years;Good understanding of IOC...</td>\n",
       "      <td>Senior Exploit and Vulnerability Researcher</td>\n",
       "      <td>NaN</td>\n",
       "      <td>team skills, communication skills, analytical ...</td>\n",
       "      <td>Delhi NCR(Vikas Puri)</td>\n",
       "      <td>6to10</td>\n",
       "      <td>3687</td>\n",
       "    </tr>\n",
       "    <tr>\n",
       "      <th>1</th>\n",
       "      <td>1</td>\n",
       "      <td>10-17 yrs</td>\n",
       "      <td>He should have handled a team of atleast 5-6 d...</td>\n",
       "      <td>Head SCM</td>\n",
       "      <td>NaN</td>\n",
       "      <td>ppc, logistics, inventory management, supply c...</td>\n",
       "      <td>Sonepat</td>\n",
       "      <td>10to15</td>\n",
       "      <td>458</td>\n",
       "    </tr>\n",
       "    <tr>\n",
       "      <th>2</th>\n",
       "      <td>2</td>\n",
       "      <td>5-9 yrs</td>\n",
       "      <td>Must be an effective communicator (written &amp; s...</td>\n",
       "      <td>Deputy Manager - Talent Management &amp; Leadershi...</td>\n",
       "      <td>Analytics</td>\n",
       "      <td>HR Analytics, Employee Engagement, Training, S...</td>\n",
       "      <td>Delhi NCR</td>\n",
       "      <td>15to25</td>\n",
       "      <td>4195</td>\n",
       "    </tr>\n",
       "    <tr>\n",
       "      <th>3</th>\n",
       "      <td>3</td>\n",
       "      <td>7-10 yrs</td>\n",
       "      <td>7  -  10 years of overall experience in data e...</td>\n",
       "      <td>Associate Manager Data Engineering</td>\n",
       "      <td>Analytics</td>\n",
       "      <td>SQL, Javascript, Automation, Python, Ruby, Ana...</td>\n",
       "      <td>Bengaluru</td>\n",
       "      <td>10to15</td>\n",
       "      <td>313</td>\n",
       "    </tr>\n",
       "    <tr>\n",
       "      <th>4</th>\n",
       "      <td>4</td>\n",
       "      <td>1-3 yrs</td>\n",
       "      <td>Chartered Accountancy degree or MBA in Finance...</td>\n",
       "      <td>TS- GSA- Senior Analyst</td>\n",
       "      <td>NaN</td>\n",
       "      <td>accounting, finance, cash flow, financial plan...</td>\n",
       "      <td>Gurgaon</td>\n",
       "      <td>3to6</td>\n",
       "      <td>1305</td>\n",
       "    </tr>\n",
       "  </tbody>\n",
       "</table>\n",
       "</div>"
      ],
      "text/plain": [
       "   Unnamed: 0 experience                                    job_description  \\\n",
       "0           0    5-7 yrs  Exp: Minimum 5 years;Good understanding of IOC...   \n",
       "1           1  10-17 yrs  He should have handled a team of atleast 5-6 d...   \n",
       "2           2    5-9 yrs  Must be an effective communicator (written & s...   \n",
       "3           3   7-10 yrs  7  -  10 years of overall experience in data e...   \n",
       "4           4    1-3 yrs  Chartered Accountancy degree or MBA in Finance...   \n",
       "\n",
       "                                           job_desig   job_type  \\\n",
       "0        Senior Exploit and Vulnerability Researcher        NaN   \n",
       "1                                           Head SCM        NaN   \n",
       "2  Deputy Manager - Talent Management & Leadershi...  Analytics   \n",
       "3                 Associate Manager Data Engineering  Analytics   \n",
       "4                            TS- GSA- Senior Analyst        NaN   \n",
       "\n",
       "                                          key_skills               location  \\\n",
       "0  team skills, communication skills, analytical ...  Delhi NCR(Vikas Puri)   \n",
       "1  ppc, logistics, inventory management, supply c...                Sonepat   \n",
       "2  HR Analytics, Employee Engagement, Training, S...              Delhi NCR   \n",
       "3  SQL, Javascript, Automation, Python, Ruby, Ana...              Bengaluru   \n",
       "4  accounting, finance, cash flow, financial plan...                Gurgaon   \n",
       "\n",
       "   salary  company_name_encoded  \n",
       "0   6to10                  3687  \n",
       "1  10to15                   458  \n",
       "2  15to25                  4195  \n",
       "3  10to15                   313  \n",
       "4    3to6                  1305  "
      ]
     },
     "execution_count": 31,
     "metadata": {},
     "output_type": "execute_result"
    }
   ],
   "source": [
    "# Load the dataset\n",
    "df = pd.read_csv(\"Predict-The-Data-Scientists-Salary-In-India_Train_Dataset.csv\")\n",
    "df.head()"
   ]
  },
  {
   "cell_type": "code",
   "execution_count": 32,
   "id": "337f8d57-dd1e-4ff3-8d9d-9824d4744daa",
   "metadata": {},
   "outputs": [],
   "source": [
    "# Split experience into min_experience and max_experience\n",
    "def parse_experience(exp_str):\n",
    "    try:\n",
    "        exp_range = str(exp_str).replace(' yrs', '').replace('yrs', '').replace(' ', '').split('-')\n",
    "        if len(exp_range) == 2:\n",
    "            return int(exp_range[0]), int(exp_range[1])\n",
    "        else:\n",
    "            return int(exp_range[0]), int(exp_range[0])\n",
    "    except:\n",
    "        return 0, 0\n",
    "\n",
    "df['min_experience'], df['max_experience'] = zip(*df['experience'].map(parse_experience))"
   ]
  },
  {
   "cell_type": "code",
   "execution_count": 33,
   "id": "a03d1ed7-5da6-42f1-b98c-5e7b31b8420c",
   "metadata": {},
   "outputs": [],
   "source": [
    "# Label encode 'location' and 'salary'\n",
    "le_location = LabelEncoder()\n",
    "df['location_encoded'] = le_location.fit_transform(df['location'].astype(str))\n",
    "\n",
    "le_salary = LabelEncoder()\n",
    "df['salary_encoded'] = le_salary.fit_transform(df['salary'].astype(str))"
   ]
  },
  {
   "cell_type": "code",
   "execution_count": 34,
   "id": "9d836ed2-e0ff-4a6c-88c1-8202a4277b1f",
   "metadata": {},
   "outputs": [],
   "source": [
    "# Fill missing job_type\n",
    "df['job_type'] = df['job_type'].fillna(\"Unknown\")"
   ]
  },
  {
   "cell_type": "code",
   "execution_count": 42,
   "id": "6c227c9e-6788-4937-ac15-802abd906381",
   "metadata": {},
   "outputs": [],
   "source": [
    "feature_cols = ['company_name_encoded', 'min_experience', 'max_experience', 'job_description', 'job_desig', 'job_type', 'key_skills', 'location_encoded']\n",
    "X = df[feature_cols].copy()\n",
    "y = df['salary_encoded']\n",
    "\n",
    "numeric_cols = ['company_name_encoded', 'min_experience', 'max_experience', 'location_encoded']\n",
    "X_numeric = df[numeric_cols].fillna(0)\n",
    "scaler = StandardScaler()\n",
    "X_numeric_scaled = scaler.fit_transform(X_numeric)"
   ]
  },
  {
   "cell_type": "code",
   "execution_count": 37,
   "id": "c996de0d-eda5-47f5-bc48-78be2897fb14",
   "metadata": {},
   "outputs": [],
   "source": [
    "# Train/test split\n",
    "X_train, X_test, y_train, y_test = train_test_split(X_numeric_scaled, y, test_size=0.2, random_state=42)"
   ]
  },
  {
   "cell_type": "code",
   "execution_count": 40,
   "id": "880521b5-bec4-4c2a-b6c9-12a8665be9e6",
   "metadata": {},
   "outputs": [
    {
     "name": "stdout",
     "output_type": "stream",
     "text": [
      "DecisionTree: accuracy = 0.3516788689724817\n",
      "RandomForest: accuracy = 0.35597071446604395\n",
      "ExtraTrees: accuracy = 0.348649330977026\n",
      "AdaBoost: accuracy = 0.3756627114365059\n",
      "GradientBoosting: accuracy = 0.43145670285281496\n"
     ]
    }
   ],
   "source": [
    "# Classifiers\n",
    "clf1 = DecisionTreeClassifier()\n",
    "clf2 = RandomForestClassifier(n_estimators=100)\n",
    "clf3 = ExtraTreesClassifier(n_estimators=100)\n",
    "clf4 = AdaBoostClassifier(n_estimators=100)\n",
    "clf5 = GradientBoostingClassifier(n_estimators=100)\n",
    "clfs = [clf1, clf2, clf3, clf4, clf5]\n",
    "names = ['DecisionTree', 'RandomForest', 'ExtraTrees', 'AdaBoost', 'GradientBoosting']\n",
    "results = {}\n",
    "for name, clf in zip(names, clfs):\n",
    "    clf.fit(X_train, y_train)\n",
    "    acc = accuracy_score(y_test, clf.predict(X_test))\n",
    "    results[name] = acc\n",
    "    print(f\"{name}: accuracy = {acc:}\")"
   ]
  },
  {
   "cell_type": "code",
   "execution_count": 41,
   "id": "bab351b1-dcf1-4b4d-862b-70c3bde81bd5",
   "metadata": {},
   "outputs": [
    {
     "name": "stdout",
     "output_type": "stream",
     "text": [
      "Best estimator: GradientBoosting (accuracy=0.43145670285281496)\n"
     ]
    }
   ],
   "source": [
    "# Best model\n",
    "best_name = max(results, key=results.get)\n",
    "print(f\"Best estimator: {best_name} (accuracy={results[best_name]:})\")"
   ]
  }
 ],
 "metadata": {
  "kernelspec": {
   "display_name": "Python 3 (ipykernel)",
   "language": "python",
   "name": "python3"
  },
  "language_info": {
   "codemirror_mode": {
    "name": "ipython",
    "version": 3
   },
   "file_extension": ".py",
   "mimetype": "text/x-python",
   "name": "python",
   "nbconvert_exporter": "python",
   "pygments_lexer": "ipython3",
   "version": "3.12.8"
  }
 },
 "nbformat": 4,
 "nbformat_minor": 5
}
